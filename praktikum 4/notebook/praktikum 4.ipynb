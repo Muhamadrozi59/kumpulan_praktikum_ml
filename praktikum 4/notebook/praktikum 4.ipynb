{
 "cells": [
  {
   "cell_type": "code",
   "execution_count": 13,
   "id": "7eed5e3f-32a7-4cb2-a2ca-40bc69b1bf12",
   "metadata": {},
   "outputs": [],
   "source": [
    "import numpy as np\n",
    "import pandas as pd\n",
    "import matplotlib.pyplot as plt\n",
    "\n",
    "from sklearn.model_selection import train_test_split\n",
    "from sklearn.compose import ColumnTransformer\n",
    "from sklearn.preprocessing import OneHotEncoder, StandardScaler\n",
    "from sklearn.pipeline import Pipeline\n",
    "from sklearn.linear_model import LogisticRegression\n",
    "from sklearn.metrics import (\n",
    "    accuracy_score, precision_score, recall_score, f1_score, roc_auc_score,\n",
    "    confusion_matrix, classification_report, RocCurveDisplay, ConfusionMatrixDisplay\n",
    ")"
   ]
  },
  {
   "cell_type": "code",
   "execution_count": 5,
   "id": "35adbead-077f-40b6-844c-5aa0072f613e",
   "metadata": {},
   "outputs": [
    {
     "data": {
      "text/html": [
       "<div>\n",
       "<style scoped>\n",
       "    .dataframe tbody tr th:only-of-type {\n",
       "        vertical-align: middle;\n",
       "    }\n",
       "\n",
       "    .dataframe tbody tr th {\n",
       "        vertical-align: top;\n",
       "    }\n",
       "\n",
       "    .dataframe thead th {\n",
       "        text-align: right;\n",
       "    }\n",
       "</style>\n",
       "<table border=\"1\" class=\"dataframe\">\n",
       "  <thead>\n",
       "    <tr style=\"text-align: right;\">\n",
       "      <th></th>\n",
       "      <th>Jenis Kelamin</th>\n",
       "      <th>Umur (bulan)</th>\n",
       "      <th>Tinggi Badan (cm)</th>\n",
       "      <th>Berat Badan (kg)</th>\n",
       "      <th>Stunting</th>\n",
       "      <th>Wasting</th>\n",
       "    </tr>\n",
       "  </thead>\n",
       "  <tbody>\n",
       "    <tr>\n",
       "      <th>0</th>\n",
       "      <td>Laki-laki</td>\n",
       "      <td>19</td>\n",
       "      <td>91.6</td>\n",
       "      <td>13.3</td>\n",
       "      <td>Tall</td>\n",
       "      <td>Risk of Overweight</td>\n",
       "    </tr>\n",
       "    <tr>\n",
       "      <th>1</th>\n",
       "      <td>Laki-laki</td>\n",
       "      <td>20</td>\n",
       "      <td>77.7</td>\n",
       "      <td>8.5</td>\n",
       "      <td>Stunted</td>\n",
       "      <td>Underweight</td>\n",
       "    </tr>\n",
       "    <tr>\n",
       "      <th>2</th>\n",
       "      <td>Laki-laki</td>\n",
       "      <td>10</td>\n",
       "      <td>79.0</td>\n",
       "      <td>10.3</td>\n",
       "      <td>Normal</td>\n",
       "      <td>Risk of Overweight</td>\n",
       "    </tr>\n",
       "    <tr>\n",
       "      <th>3</th>\n",
       "      <td>Perempuan</td>\n",
       "      <td>2</td>\n",
       "      <td>50.3</td>\n",
       "      <td>8.3</td>\n",
       "      <td>Severely Stunted</td>\n",
       "      <td>Risk of Overweight</td>\n",
       "    </tr>\n",
       "    <tr>\n",
       "      <th>4</th>\n",
       "      <td>Perempuan</td>\n",
       "      <td>5</td>\n",
       "      <td>56.4</td>\n",
       "      <td>10.9</td>\n",
       "      <td>Severely Stunted</td>\n",
       "      <td>Risk of Overweight</td>\n",
       "    </tr>\n",
       "  </tbody>\n",
       "</table>\n",
       "</div>"
      ],
      "text/plain": [
       "  Jenis Kelamin  Umur (bulan)  Tinggi Badan (cm)  Berat Badan (kg)  \\\n",
       "0     Laki-laki            19               91.6              13.3   \n",
       "1     Laki-laki            20               77.7               8.5   \n",
       "2     Laki-laki            10               79.0              10.3   \n",
       "3     Perempuan             2               50.3               8.3   \n",
       "4     Perempuan             5               56.4              10.9   \n",
       "\n",
       "           Stunting             Wasting  \n",
       "0              Tall  Risk of Overweight  \n",
       "1           Stunted         Underweight  \n",
       "2            Normal  Risk of Overweight  \n",
       "3  Severely Stunted  Risk of Overweight  \n",
       "4  Severely Stunted  Risk of Overweight  "
      ]
     },
     "execution_count": 5,
     "metadata": {},
     "output_type": "execute_result"
    }
   ],
   "source": [
    "df = pd.read_csv(\"../data/stunting_wasting_dataset.csv\")\n",
    "df.head()"
   ]
  },
  {
   "cell_type": "code",
   "execution_count": 6,
   "id": "a3ab039a-50ee-470c-a273-028897c798b9",
   "metadata": {},
   "outputs": [
    {
     "name": "stdout",
     "output_type": "stream",
     "text": [
      "<class 'pandas.core.frame.DataFrame'>\n",
      "RangeIndex: 100000 entries, 0 to 99999\n",
      "Data columns (total 6 columns):\n",
      " #   Column             Non-Null Count   Dtype  \n",
      "---  ------             --------------   -----  \n",
      " 0   Jenis Kelamin      100000 non-null  object \n",
      " 1   Umur (bulan)       100000 non-null  int64  \n",
      " 2   Tinggi Badan (cm)  100000 non-null  float64\n",
      " 3   Berat Badan (kg)   100000 non-null  float64\n",
      " 4   Stunting           100000 non-null  object \n",
      " 5   Wasting            100000 non-null  object \n",
      "dtypes: float64(2), int64(1), object(3)\n",
      "memory usage: 4.6+ MB\n"
     ]
    }
   ],
   "source": [
    "df.info()"
   ]
  },
  {
   "cell_type": "code",
   "execution_count": 7,
   "id": "82befccc-80a2-49e9-9223-fccefd081c58",
   "metadata": {},
   "outputs": [
    {
     "data": {
      "text/plain": [
       "Jenis Kelamin        0\n",
       "Umur (bulan)         0\n",
       "Tinggi Badan (cm)    0\n",
       "Berat Badan (kg)     0\n",
       "Stunting             0\n",
       "Wasting              0\n",
       "dtype: int64"
      ]
     },
     "execution_count": 7,
     "metadata": {},
     "output_type": "execute_result"
    }
   ],
   "source": [
    "#cek missing value \n",
    "df.isnull().sum()"
   ]
  },
  {
   "cell_type": "code",
   "execution_count": 21,
   "id": "ce7959cd-5c87-48c3-8668-3a7ebff5c179",
   "metadata": {},
   "outputs": [
    {
     "data": {
      "text/plain": [
       "np.int64(0)"
      ]
     },
     "execution_count": 21,
     "metadata": {},
     "output_type": "execute_result"
    }
   ],
   "source": [
    "df.duplicated().sum()\n"
   ]
  },
  {
   "cell_type": "code",
   "execution_count": 9,
   "id": "6c8600cd-d8a4-48c2-91c5-ffc15b582902",
   "metadata": {},
   "outputs": [
    {
     "data": {
      "text/plain": [
       "array(['Tall', 'Stunted', 'Normal', 'Severely Stunted'], dtype=object)"
      ]
     },
     "execution_count": 9,
     "metadata": {},
     "output_type": "execute_result"
    }
   ],
   "source": [
    "#cek nilai unik\n",
    "df['Stunting'].unique()\n"
   ]
  },
  {
   "cell_type": "code",
   "execution_count": 10,
   "id": "77b9da6c-8a0a-4646-a644-ed25c0df8408",
   "metadata": {},
   "outputs": [
    {
     "data": {
      "text/plain": [
       "array(['Laki-laki', 'Perempuan'], dtype=object)"
      ]
     },
     "execution_count": 10,
     "metadata": {},
     "output_type": "execute_result"
    }
   ],
   "source": [
    "df['Jenis Kelamin'].unique()"
   ]
  },
  {
   "cell_type": "code",
   "execution_count": 20,
   "id": "d766e744-1a7b-47eb-a367-d17b0503b134",
   "metadata": {},
   "outputs": [
    {
     "name": "stdout",
     "output_type": "stream",
     "text": [
      "Distribusi Stunting_bin: \n",
      " Stunting_bin\n",
      "0    72320\n",
      "1    20372\n",
      "Name: count, dtype: Int64\n",
      "\n",
      "Distribusi JK_bin:\n",
      " JK_bin\n",
      "1    46353\n",
      "0    46339\n",
      "Name: count, dtype: int64\n"
     ]
    }
   ],
   "source": [
    "# 1. Mapping kolom Stunting -> biner\n",
    "map_stunt = {'Stunted': 1, 'Severely Stunted': 1, 'Normal': 0, 'Tall': 0}\n",
    "df['Stunting_bin'] = df['Stunting'].map(map_stunt).astype('Int64')\n",
    "\n",
    "# 2. Mapping kolom Jenis Kelamin -> biner\n",
    "# Laki-Laki = 1, Perempuan = 0\n",
    "df['JK_bin'] = (df['Jenis Kelamin'] == 'Laki-laki').astype(int)\n",
    "\n",
    "print(\"Distribusi Stunting_bin: \\n\", df['Stunting_bin'].value_counts())\n",
    "print(\"\\nDistribusi JK_bin:\\n\", df['JK_bin'].value_counts())"
   ]
  },
  {
   "cell_type": "code",
   "execution_count": 22,
   "id": "d2df2457-f1ac-45a2-b7d7-b6a494759064",
   "metadata": {},
   "outputs": [
    {
     "data": {
      "text/html": [
       "<div>\n",
       "<style scoped>\n",
       "    .dataframe tbody tr th:only-of-type {\n",
       "        vertical-align: middle;\n",
       "    }\n",
       "\n",
       "    .dataframe tbody tr th {\n",
       "        vertical-align: top;\n",
       "    }\n",
       "\n",
       "    .dataframe thead th {\n",
       "        text-align: right;\n",
       "    }\n",
       "</style>\n",
       "<table border=\"1\" class=\"dataframe\">\n",
       "  <thead>\n",
       "    <tr style=\"text-align: right;\">\n",
       "      <th></th>\n",
       "      <th>Umur (bulan)</th>\n",
       "      <th>Tinggi Badan (cm)</th>\n",
       "      <th>Berat Badan (kg)</th>\n",
       "      <th>Stunting_bin</th>\n",
       "      <th>JK_bin</th>\n",
       "    </tr>\n",
       "  </thead>\n",
       "  <tbody>\n",
       "    <tr>\n",
       "      <th>Umur (bulan)</th>\n",
       "      <td>1.000000</td>\n",
       "      <td>0.874162</td>\n",
       "      <td>0.659566</td>\n",
       "      <td>0.037173</td>\n",
       "      <td>0.000636</td>\n",
       "    </tr>\n",
       "    <tr>\n",
       "      <th>Tinggi Badan (cm)</th>\n",
       "      <td>0.874162</td>\n",
       "      <td>1.000000</td>\n",
       "      <td>0.618453</td>\n",
       "      <td>-0.288216</td>\n",
       "      <td>0.070159</td>\n",
       "    </tr>\n",
       "    <tr>\n",
       "      <th>Berat Badan (kg)</th>\n",
       "      <td>0.659566</td>\n",
       "      <td>0.618453</td>\n",
       "      <td>1.000000</td>\n",
       "      <td>0.020676</td>\n",
       "      <td>0.043446</td>\n",
       "    </tr>\n",
       "    <tr>\n",
       "      <th>Stunting_bin</th>\n",
       "      <td>0.037173</td>\n",
       "      <td>-0.288216</td>\n",
       "      <td>0.020676</td>\n",
       "      <td>1.000000</td>\n",
       "      <td>-0.005187</td>\n",
       "    </tr>\n",
       "    <tr>\n",
       "      <th>JK_bin</th>\n",
       "      <td>0.000636</td>\n",
       "      <td>0.070159</td>\n",
       "      <td>0.043446</td>\n",
       "      <td>-0.005187</td>\n",
       "      <td>1.000000</td>\n",
       "    </tr>\n",
       "  </tbody>\n",
       "</table>\n",
       "</div>"
      ],
      "text/plain": [
       "                   Umur (bulan)  Tinggi Badan (cm)  Berat Badan (kg)  \\\n",
       "Umur (bulan)           1.000000           0.874162          0.659566   \n",
       "Tinggi Badan (cm)      0.874162           1.000000          0.618453   \n",
       "Berat Badan (kg)       0.659566           0.618453          1.000000   \n",
       "Stunting_bin           0.037173          -0.288216          0.020676   \n",
       "JK_bin                 0.000636           0.070159          0.043446   \n",
       "\n",
       "                   Stunting_bin    JK_bin  \n",
       "Umur (bulan)           0.037173  0.000636  \n",
       "Tinggi Badan (cm)     -0.288216  0.070159  \n",
       "Berat Badan (kg)       0.020676  0.043446  \n",
       "Stunting_bin           1.000000 -0.005187  \n",
       "JK_bin                -0.005187  1.000000  "
      ]
     },
     "execution_count": 22,
     "metadata": {},
     "output_type": "execute_result"
    }
   ],
   "source": [
    "corr_matrix = df.corr(numeric_only=True)\n",
    "corr_matrix"
   ]
  },
  {
   "cell_type": "code",
   "execution_count": 23,
   "id": "8e8b0ae6-c3bc-426c-8c9b-504d269472dd",
   "metadata": {},
   "outputs": [
    {
     "data": {
      "image/png": "[encoded data removed]",
      "text/plain": [
       "<Figure size 800x600 with 2 Axes>"
      ]
     },
     "metadata": {},
     "output_type": "display_data"
    }
   ],
   "source": [
    "#visualisai heatmap\n",
    "import seaborn as sns\n",
    "import matplotlib.pyplot as plt\n",
    "\n",
    "plt.figure(figsize=(8,6))\n",
    "sns.heatmap(corr_matrix, annot=True, cmap='coolwarm', fmt=\".2f\", linewidths=0.5)\n",
    "plt.title(\"Heatmap korelasi Antar Variabel Numerik terhadap stunting\", fontsize=12)\n",
    "plt.show()"
   ]
  },
  {
   "cell_type": "code",
   "execution_count": 24,
   "id": "1e020595-3f02-4ca8-a658-81a825e86648",
   "metadata": {},
   "outputs": [
    {
     "name": "stdout",
     "output_type": "stream",
     "text": [
      "X shape: (92692, 4)\n",
      "y shape: (92692,)\n"
     ]
    }
   ],
   "source": [
    "# Fitur numerik dan gender\n",
    "feature_num = ['Umur (bulan)', 'Tinggi Badan (cm)', 'Berat Badan (kg)']\n",
    "feature_bin = ['JK_bin']\n",
    "# Gabungkan & drop missing\n",
    "use_cols = feature_num + feature_bin + ['Stunting_bin']\n",
    "df_model = df[use_cols].dropna().copy()\n",
    "X = df_model[feature_num + feature_bin]\n",
    "y = df_model['Stunting_bin']\n",
    "print(\"X shape:\", X.shape)\n",
    "print(\"y shape:\", y.shape)"
   ]
  },
  {
   "cell_type": "code",
   "execution_count": 27,
   "id": "6c5a6ebe-acb0-4bdd-b18a-88d34e5d5632",
   "metadata": {},
   "outputs": [
    {
     "name": "stdout",
     "output_type": "stream",
     "text": [
      "Data latih: (74153, 4)\n",
      "data uji: (18539, 4)\n"
     ]
    }
   ],
   "source": [
    "X_train, X_test, y_train, y_test = train_test_split(\n",
    "    X, y,\n",
    "    test_size=0.2,\n",
    "    random_state=42,\n",
    "    stratify=y\n",
    ")\n",
    "\n",
    "print(\"Data latih:\", X_train.shape)\n",
    "print(\"data uji:\", X_test.shape)"
   ]
  },
  {
   "cell_type": "code",
   "execution_count": 28,
   "id": "83e2f21d-aa50-4b7a-902d-74d0e9cd1f3e",
   "metadata": {},
   "outputs": [
    {
     "name": "stdout",
     "output_type": "stream",
     "text": [
      "✅ Model Logistic Regression berhasil dilatih.\n"
     ]
    }
   ],
   "source": [
    "# Scale hanya fitur numerik, gender langsung passthrough\n",
    "from sklearn.compose import ColumnTransformer\n",
    "from sklearn.preprocessing import StandardScaler\n",
    "from sklearn.linear_model import LogisticRegression\n",
    "from sklearn.pipeline import Pipeline\n",
    "\n",
    "preprocess = ColumnTransformer(\n",
    "    transformers=[\n",
    "        ('num', StandardScaler(), feature_num),\n",
    "        ('bin', 'passthrough', feature_bin)\n",
    "    ],\n",
    "    remainder='drop'\n",
    ")\n",
    "\n",
    "model = LogisticRegression(\n",
    "    max_iter=1000,\n",
    "    solver='lbfgs',\n",
    "    class_weight='balanced',\n",
    "    random_state=42\n",
    ")\n",
    "\n",
    "clf = Pipeline([\n",
    "    ('preprocess', preprocess),\n",
    "    ('model', model)\n",
    "])\n",
    "\n",
    "# Latih model\n",
    "clf.fit(X_train, y_train)\n",
    "print(\"✅ Model Logistic Regression berhasil dilatih.\")"
   ]
  },
  {
   "cell_type": "code",
   "execution_count": 29,
   "id": "969ea725-2436-4471-8654-48110ec911a9",
   "metadata": {},
   "outputs": [
    {
     "name": "stdout",
     "output_type": "stream",
     "text": [
      "Akurasi    : 0.9063\n",
      "Precision  : 0.7139\n",
      "Recall     : 0.9571\n",
      "F1-Score   : 0.8178\n",
      "ROC-AUC    : 0.9651\n"
     ]
    }
   ],
   "source": [
    "# Prediksi & probabilitas\n",
    "y_pred = clf.predict(X_test)\n",
    "y_prob = clf.predict_proba(X_test)[:, 1]\n",
    "\n",
    "# Hitung metrik\n",
    "print(f\"Akurasi    : {accuracy_score(y_test, y_pred):.4f}\")\n",
    "print(f\"Precision  : {precision_score(y_test, y_pred, zero_division=0):.4f}\")\n",
    "print(f\"Recall     : {recall_score(y_test, y_pred, zero_division=0):.4f}\")\n",
    "print(f\"F1-Score   : {f1_score(y_test, y_pred, zero_division=0):.4f}\")\n",
    "print(f\"ROC-AUC    : {roc_auc_score(y_test, y_prob):.4f}\")"
   ]
  },
  {
   "cell_type": "code",
   "execution_count": 31,
   "id": "8f98a8e2-d03f-4fc2-bf12-67663a208e0a",
   "metadata": {},
   "outputs": [
    {
     "data": {
      "image/png": "[encoded data removed]",
      "text/plain": [
       "<Figure size 640x480 with 2 Axes>"
      ]
     },
     "metadata": {},
     "output_type": "display_data"
    },
    {
     "data": {
      "image/png": "[encoded data removed]",
      "text/plain": [
       "<Figure size 640x480 with 1 Axes>"
      ]
     },
     "metadata": {},
     "output_type": "display_data"
    }
   ],
   "source": [
    " #Confusion Matrix\n",
    "ConfusionMatrixDisplay (confusion_matrix(y_test, y_pred),\n",
    "    display_labels=['Normal', 'Stunting']\n",
    "    ).plot(values_format='d')\n",
    "plt.title(\"Confusion Matrix\")\n",
    "plt.show()\n",
    "\n",
    "\n",
    "#ROC Curve\n",
    "RocCurveDisplay.from_estimator (clf, X_test, y_test)\n",
    "plt.title(\"ROC Curve Logistic Regression\")\n",
    "plt.show()\n"
   ]
  },
  {
   "cell_type": "code",
   "execution_count": 35,
   "id": "02f09c83-2fba-46cb-aa22-e2bb5c83171e",
   "metadata": {},
   "outputs": [
    {
     "name": "stdout",
     "output_type": "stream",
     "text": [
      "                    precision    recall  f1-score   support\n",
      "\n",
      "Tidak Stunting (0)       0.99      0.89      0.94     14464\n",
      "      Stunting (1)       0.71      0.96      0.82      4075\n",
      "\n",
      "          accuracy                           0.91     18539\n",
      "         macro avg       0.85      0.92      0.88     18539\n",
      "      weighted avg       0.93      0.91      0.91     18539\n",
      "\n"
     ]
    }
   ],
   "source": [
    "from sklearn.metrics import classification_report\n",
    "print(classification_report(y_test, y_pred, target_names=['Tidak Stunting (0)', 'Stunting (1)']))"
   ]
  },
  {
   "cell_type": "code",
   "execution_count": 41,
   "id": "7cf152a9-277b-41e1-8fec-af6b8bc80e1d",
   "metadata": {},
   "outputs": [
    {
     "name": "stdout",
     "output_type": "stream",
     "text": [
      "skor tiap fold: [0.9084093  0.90414801 0.90468227 0.90673212 0.9028482 ]\n",
      "Rata Rata akurasi: 0.9053639814725255\n",
      "Standar deviasi: 0.001970695381359219\n"
     ]
    }
   ],
   "source": [
    "from sklearn.model_selection import cross_val_score\n",
    "\n",
    "#lakukan cross validation (cv=5 berarti 5-fold)\n",
    "scores = cross_val_score(clf, X, y, cv=5)\n",
    "\n",
    "#tampilkan\n",
    "print(\"skor tiap fold:\", scores)\n",
    "print(\"Rata Rata akurasi:\", np.mean(scores))\n",
    "print(\"Standar deviasi:\", np.std(scores))"
   ]
  },
  {
   "cell_type": "code",
   "execution_count": 36,
   "id": "97e07f7e-50b4-4ccc-b0a1-739c9394e332",
   "metadata": {},
   "outputs": [
    {
     "data": {
      "text/html": [
       "<div>\n",
       "<style scoped>\n",
       "    .dataframe tbody tr th:only-of-type {\n",
       "        vertical-align: middle;\n",
       "    }\n",
       "\n",
       "    .dataframe tbody tr th {\n",
       "        vertical-align: top;\n",
       "    }\n",
       "\n",
       "    .dataframe thead th {\n",
       "        text-align: right;\n",
       "    }\n",
       "</style>\n",
       "<table border=\"1\" class=\"dataframe\">\n",
       "  <thead>\n",
       "    <tr style=\"text-align: right;\">\n",
       "      <th></th>\n",
       "      <th>Fitur</th>\n",
       "      <th>Koefisien (log-odds)</th>\n",
       "      <th>Odds Ratio (e^coef)</th>\n",
       "    </tr>\n",
       "  </thead>\n",
       "  <tbody>\n",
       "    <tr>\n",
       "      <th>0</th>\n",
       "      <td>Umur (bulan)</td>\n",
       "      <td>8.661420</td>\n",
       "      <td>5775.733054</td>\n",
       "    </tr>\n",
       "    <tr>\n",
       "      <th>3</th>\n",
       "      <td>JK_bin</td>\n",
       "      <td>1.726339</td>\n",
       "      <td>5.620042</td>\n",
       "    </tr>\n",
       "    <tr>\n",
       "      <th>2</th>\n",
       "      <td>Berat Badan (kg)</td>\n",
       "      <td>0.653153</td>\n",
       "      <td>1.921590</td>\n",
       "    </tr>\n",
       "    <tr>\n",
       "      <th>1</th>\n",
       "      <td>Tinggi Badan (cm)</td>\n",
       "      <td>-10.742834</td>\n",
       "      <td>0.000022</td>\n",
       "    </tr>\n",
       "  </tbody>\n",
       "</table>\n",
       "</div>"
      ],
      "text/plain": [
       "               Fitur  Koefisien (log-odds)  Odds Ratio (e^coef)\n",
       "0       Umur (bulan)              8.661420          5775.733054\n",
       "3             JK_bin              1.726339             5.620042\n",
       "2   Berat Badan (kg)              0.653153             1.921590\n",
       "1  Tinggi Badan (cm)            -10.742834             0.000022"
      ]
     },
     "metadata": {},
     "output_type": "display_data"
    }
   ],
   "source": [
    "# Ambil nama fitur & koefisien\n",
    "feat_names = feature_num + feature_bin\n",
    "coefs = clf.named_steps['model'].coef_[0]\n",
    "odds = np.exp(coefs)\n",
    "\n",
    "coef_df = pd.DataFrame({\n",
    "    'Fitur': feat_names,\n",
    "    'Koefisien (log-odds)': coefs,\n",
    "    'Odds Ratio (e^coef)': odds\n",
    "}).sort_values('Odds Ratio (e^coef)', ascending=False)\n",
    "\n",
    "display(coef_df)"
   ]
  },
  {
   "cell_type": "code",
   "execution_count": 40,
   "id": "08f2901c-05c5-483d-af05-b656e382f9af",
   "metadata": {},
   "outputs": [
    {
     "data": {
      "text/html": [
       "<div>\n",
       "<style scoped>\n",
       "    .dataframe tbody tr th:only-of-type {\n",
       "        vertical-align: middle;\n",
       "    }\n",
       "\n",
       "    .dataframe tbody tr th {\n",
       "        vertical-align: top;\n",
       "    }\n",
       "\n",
       "    .dataframe thead th {\n",
       "        text-align: right;\n",
       "    }\n",
       "</style>\n",
       "<table border=\"1\" class=\"dataframe\">\n",
       "  <thead>\n",
       "    <tr style=\"text-align: right;\">\n",
       "      <th></th>\n",
       "      <th>Umur (bulan)</th>\n",
       "      <th>Tinggi Badan (cm)</th>\n",
       "      <th>Berat Badan (kg)</th>\n",
       "      <th>JK_bin</th>\n",
       "      <th>prob_stunting</th>\n",
       "      <th>pred (0=tidak, 1=ya)</th>\n",
       "    </tr>\n",
       "  </thead>\n",
       "  <tbody>\n",
       "    <tr>\n",
       "      <th>0</th>\n",
       "      <td>24</td>\n",
       "      <td>79.0</td>\n",
       "      <td>9.2</td>\n",
       "      <td>1</td>\n",
       "      <td>0.998346</td>\n",
       "      <td>1.0</td>\n",
       "    </tr>\n",
       "    <tr>\n",
       "      <th>1</th>\n",
       "      <td>10</td>\n",
       "      <td>72.5</td>\n",
       "      <td>7.8</td>\n",
       "      <td>0</td>\n",
       "      <td>0.001810</td>\n",
       "      <td>0.0</td>\n",
       "    </tr>\n",
       "  </tbody>\n",
       "</table>\n",
       "</div>"
      ],
      "text/plain": [
       "   Umur (bulan)  Tinggi Badan (cm)  Berat Badan (kg)  JK_bin  prob_stunting  \\\n",
       "0            24               79.0               9.2       1       0.998346   \n",
       "1            10               72.5               7.8       0       0.001810   \n",
       "\n",
       "   pred (0=tidak, 1=ya)  \n",
       "0                   1.0  \n",
       "1                   0.0  "
      ]
     },
     "metadata": {},
     "output_type": "display_data"
    }
   ],
   "source": [
    "# contoh 2 anak\n",
    "data_baru = pd.DataFrame({\n",
    "    'Umur (bulan)': [24, 10],\n",
    "    'Tinggi Badan (cm)': [79.0, 72.5],\n",
    "    'Berat Badan (kg)' : [9.2, 7.8],\n",
    "    'JK_bin': [1, 0] #1 laki laki 0 perempeuan\n",
    "})\n",
    "\n",
    "pred = clf.predict(data_baru)\n",
    "prob = clf.predict_proba(data_baru)[:,1]\n",
    "\n",
    "hasil = data_baru.copy()\n",
    "hasil['prob_stunting'] = prob\n",
    "hasil['pred (0=tidak, 1=ya)'] = pred\n",
    "display(hasil)"
   ]
  },
  {
   "cell_type": "code",
   "execution_count": null,
   "id": "89d516f9-ee35-4fd1-ad8e-2cef12c509ae",
   "metadata": {},
   "outputs": [],
   "source": []
  }
 ],
 "metadata": {
  "kernelspec": {
   "display_name": "Python 3 (ipykernel)",
   "language": "python",
   "name": "python3"
  },
  "language_info": {
   "codemirror_mode": {
    "name": "ipython",
    "version": 3
   },
   "file_extension": ".py",
   "mimetype": "text/x-python",
   "name": "python",
   "nbconvert_exporter": "python",
   "pygments_lexer": "ipython3",
   "version": "3.13.7"
  }
 },
 "nbformat": 4,
 "nbformat_minor": 5
}
