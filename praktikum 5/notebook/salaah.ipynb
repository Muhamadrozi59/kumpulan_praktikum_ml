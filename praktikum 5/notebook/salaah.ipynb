{
 "cells": [
  {
   "cell_type": "code",
   "execution_count": 7,
   "id": "d7b1469d-f897-45f2-a235-f9cfc12732f9",
   "metadata": {},
   "outputs": [],
   "source": [
    "import pandas as pd\n",
    "import numpy as np \n",
    "import matplotlib.pyplot as  plt\n",
    "import seaborn as sns\n",
    "from sklearn.model_selection import train_test_split\n",
    "from sklearn.tree import DecisionTreeClassifier, plot_tree\n",
    "from sklearn.metrics import accuracy_score, confusion_matrix, classification_report\n"
   ]
  },
  {
   "cell_type": "code",
   "execution_count": 9,
   "id": "842f03dd-ffd8-4067-b681-f77a0122f72e",
   "metadata": {},
   "outputs": [
    {
     "data": {
      "text/html": [
       "<div>\n",
       "<style scoped>\n",
       "    .dataframe tbody tr th:only-of-type {\n",
       "        vertical-align: middle;\n",
       "    }\n",
       "\n",
       "    .dataframe tbody tr th {\n",
       "        vertical-align: top;\n",
       "    }\n",
       "\n",
       "    .dataframe thead th {\n",
       "        text-align: right;\n",
       "    }\n",
       "</style>\n",
       "<table border=\"1\" class=\"dataframe\">\n",
       "  <thead>\n",
       "    <tr style=\"text-align: right;\">\n",
       "      <th></th>\n",
       "      <th>Jenis Kelamin</th>\n",
       "      <th>Umur (bulan)</th>\n",
       "      <th>Tinggi Badan (cm)</th>\n",
       "      <th>Berat Badan (kg)</th>\n",
       "      <th>Stunting</th>\n",
       "      <th>Wasting</th>\n",
       "    </tr>\n",
       "  </thead>\n",
       "  <tbody>\n",
       "    <tr>\n",
       "      <th>0</th>\n",
       "      <td>Laki-laki</td>\n",
       "      <td>19</td>\n",
       "      <td>91.6</td>\n",
       "      <td>13.3</td>\n",
       "      <td>Tall</td>\n",
       "      <td>Risk of Overweight</td>\n",
       "    </tr>\n",
       "    <tr>\n",
       "      <th>1</th>\n",
       "      <td>Laki-laki</td>\n",
       "      <td>20</td>\n",
       "      <td>77.7</td>\n",
       "      <td>8.5</td>\n",
       "      <td>Stunted</td>\n",
       "      <td>Underweight</td>\n",
       "    </tr>\n",
       "    <tr>\n",
       "      <th>2</th>\n",
       "      <td>Laki-laki</td>\n",
       "      <td>10</td>\n",
       "      <td>79.0</td>\n",
       "      <td>10.3</td>\n",
       "      <td>Normal</td>\n",
       "      <td>Risk of Overweight</td>\n",
       "    </tr>\n",
       "    <tr>\n",
       "      <th>3</th>\n",
       "      <td>Perempuan</td>\n",
       "      <td>2</td>\n",
       "      <td>50.3</td>\n",
       "      <td>8.3</td>\n",
       "      <td>Severely Stunted</td>\n",
       "      <td>Risk of Overweight</td>\n",
       "    </tr>\n",
       "    <tr>\n",
       "      <th>4</th>\n",
       "      <td>Perempuan</td>\n",
       "      <td>5</td>\n",
       "      <td>56.4</td>\n",
       "      <td>10.9</td>\n",
       "      <td>Severely Stunted</td>\n",
       "      <td>Risk of Overweight</td>\n",
       "    </tr>\n",
       "  </tbody>\n",
       "</table>\n",
       "</div>"
      ],
      "text/plain": [
       "  Jenis Kelamin  Umur (bulan)  Tinggi Badan (cm)  Berat Badan (kg)  \\\n",
       "0     Laki-laki            19               91.6              13.3   \n",
       "1     Laki-laki            20               77.7               8.5   \n",
       "2     Laki-laki            10               79.0              10.3   \n",
       "3     Perempuan             2               50.3               8.3   \n",
       "4     Perempuan             5               56.4              10.9   \n",
       "\n",
       "           Stunting             Wasting  \n",
       "0              Tall  Risk of Overweight  \n",
       "1           Stunted         Underweight  \n",
       "2            Normal  Risk of Overweight  \n",
       "3  Severely Stunted  Risk of Overweight  \n",
       "4  Severely Stunted  Risk of Overweight  "
      ]
     },
     "execution_count": 9,
     "metadata": {},
     "output_type": "execute_result"
    }
   ],
   "source": [
    "#membaca file\n",
    "df = pd.read_csv(\"../data/stunting_wasting_dataset.csv\")\n",
    "df.head()"
   ]
  },
  {
   "cell_type": "code",
   "execution_count": 10,
   "id": "e5023359-c5c8-47f8-9170-203cbe1f842c",
   "metadata": {},
   "outputs": [
    {
     "name": "stdout",
     "output_type": "stream",
     "text": [
      "<class 'pandas.core.frame.DataFrame'>\n",
      "RangeIndex: 100000 entries, 0 to 99999\n",
      "Data columns (total 6 columns):\n",
      " #   Column             Non-Null Count   Dtype  \n",
      "---  ------             --------------   -----  \n",
      " 0   Jenis Kelamin      100000 non-null  object \n",
      " 1   Umur (bulan)       100000 non-null  int64  \n",
      " 2   Tinggi Badan (cm)  100000 non-null  float64\n",
      " 3   Berat Badan (kg)   100000 non-null  float64\n",
      " 4   Stunting           100000 non-null  object \n",
      " 5   Wasting            100000 non-null  object \n",
      "dtypes: float64(2), int64(1), object(3)\n",
      "memory usage: 4.6+ MB\n"
     ]
    }
   ],
   "source": [
    "df.info()\n"
   ]
  },
  {
   "cell_type": "code",
   "execution_count": 12,
   "id": "9492aa48-df99-4c8d-8cb2-faffdee4235f",
   "metadata": {},
   "outputs": [
    {
     "data": {
      "text/plain": [
       "Jenis Kelamin        0\n",
       "Umur (bulan)         0\n",
       "Tinggi Badan (cm)    0\n",
       "Berat Badan (kg)     0\n",
       "Stunting             0\n",
       "Wasting              0\n",
       "dtype: int64"
      ]
     },
     "execution_count": 12,
     "metadata": {},
     "output_type": "execute_result"
    }
   ],
   "source": [
    "#cek missing value\n",
    "df.isnull().sum()"
   ]
  },
  {
   "cell_type": "code",
   "execution_count": 14,
   "id": "554810f3-a273-4801-a3af-04cc1d11a774",
   "metadata": {},
   "outputs": [
    {
     "data": {
      "text/plain": [
       "np.int64(7308)"
      ]
     },
     "execution_count": 14,
     "metadata": {},
     "output_type": "execute_result"
    }
   ],
   "source": [
    "#cek duplicate\n",
    "df.duplicated().sum()\n"
   ]
  },
  {
   "cell_type": "code",
   "execution_count": 16,
   "id": "1d51e95e-4f9f-4ecd-aa52-6e5e40d21ca2",
   "metadata": {},
   "outputs": [],
   "source": [
    "#menghapus data duplicat\n",
    "df = df.drop_duplicates()"
   ]
  },
  {
   "cell_type": "code",
   "execution_count": 18,
   "id": "baf330a7-440a-4319-8895-504fa9adb277",
   "metadata": {},
   "outputs": [
    {
     "data": {
      "text/plain": [
       "np.int64(0)"
      ]
     },
     "execution_count": 18,
     "metadata": {},
     "output_type": "execute_result"
    }
   ],
   "source": [
    "#cek duplicat ulang setelah menghapus\n",
    "df.duplicated().sum()"
   ]
  },
  {
   "cell_type": "code",
   "execution_count": 82,
   "id": "ccd10980-fd15-403f-9cee-2235cd79cb99",
   "metadata": {},
   "outputs": [
    {
     "name": "stdout",
     "output_type": "stream",
     "text": [
      "<class 'pandas.core.frame.DataFrame'>\n",
      "Index: 92692 entries, 0 to 99997\n",
      "Data columns (total 6 columns):\n",
      " #   Column         Non-Null Count  Dtype  \n",
      "---  ------         --------------  -----  \n",
      " 0   jenis_kelamin  92692 non-null  int8   \n",
      " 1   umur_bulan     92692 non-null  int64  \n",
      " 2   tinggi_cm      92692 non-null  float64\n",
      " 3   berat_kg       92692 non-null  float64\n",
      " 4   stunting       92692 non-null  int8   \n",
      " 5   wasting        92692 non-null  int8   \n",
      "dtypes: float64(2), int64(1), int8(3)\n",
      "memory usage: 3.1 MB\n"
     ]
    }
   ],
   "source": [
    "df = df.rename(columns={\n",
    "    'Jenis Kelamin':'jenis_kelamin',\n",
    "    'Umur (bulan)':'umur_bulan',\n",
    "    'Tinggi Badan (cm)':'tinggi_cm',\n",
    "    'Berat Badan (kg)':'berat_kg',\n",
    "    'Stunting':'stunting',\n",
    "    'Wasting':'wasting',\n",
    "})\n",
    "df.info()"
   ]
  },
  {
   "cell_type": "code",
   "execution_count": 83,
   "id": "6a0b502a-7077-4392-8bdb-003d09f878a2",
   "metadata": {},
   "outputs": [
    {
     "data": {
      "image/png": "[encoded data removed]",
      "text/plain": [
       "<Figure size 600x400 with 1 Axes>"
      ]
     },
     "metadata": {},
     "output_type": "display_data"
    }
   ],
   "source": [
    "plt.figure(figsize=(6,4))\n",
    "sns.countplot(x='stunting', data=df)\n",
    "plt.title('Distribusi label Stunting')\n",
    "plt.xticks(rotation=15)\n",
    "plt.show()"
   ]
  },
  {
   "cell_type": "code",
   "execution_count": 51,
   "id": "6df1210e-38a6-4a19-8670-653befbdfa16",
   "metadata": {},
   "outputs": [
    {
     "data": {
      "text/html": [
       "<div>\n",
       "<style scoped>\n",
       "    .dataframe tbody tr th:only-of-type {\n",
       "        vertical-align: middle;\n",
       "    }\n",
       "\n",
       "    .dataframe tbody tr th {\n",
       "        vertical-align: top;\n",
       "    }\n",
       "\n",
       "    .dataframe thead th {\n",
       "        text-align: right;\n",
       "    }\n",
       "</style>\n",
       "<table border=\"1\" class=\"dataframe\">\n",
       "  <thead>\n",
       "    <tr style=\"text-align: right;\">\n",
       "      <th></th>\n",
       "      <th>jenis_kelamin</th>\n",
       "      <th>umur_bulan</th>\n",
       "      <th>tinggi_cm</th>\n",
       "      <th>berat_kg</th>\n",
       "      <th>stunting</th>\n",
       "      <th>wasting</th>\n",
       "    </tr>\n",
       "  </thead>\n",
       "  <tbody>\n",
       "    <tr>\n",
       "      <th>0</th>\n",
       "      <td>0</td>\n",
       "      <td>19</td>\n",
       "      <td>91.6</td>\n",
       "      <td>13.3</td>\n",
       "      <td>3</td>\n",
       "      <td>1</td>\n",
       "    </tr>\n",
       "    <tr>\n",
       "      <th>1</th>\n",
       "      <td>0</td>\n",
       "      <td>20</td>\n",
       "      <td>77.7</td>\n",
       "      <td>8.5</td>\n",
       "      <td>2</td>\n",
       "      <td>3</td>\n",
       "    </tr>\n",
       "    <tr>\n",
       "      <th>2</th>\n",
       "      <td>0</td>\n",
       "      <td>10</td>\n",
       "      <td>79.0</td>\n",
       "      <td>10.3</td>\n",
       "      <td>0</td>\n",
       "      <td>1</td>\n",
       "    </tr>\n",
       "    <tr>\n",
       "      <th>3</th>\n",
       "      <td>1</td>\n",
       "      <td>2</td>\n",
       "      <td>50.3</td>\n",
       "      <td>8.3</td>\n",
       "      <td>1</td>\n",
       "      <td>1</td>\n",
       "    </tr>\n",
       "    <tr>\n",
       "      <th>4</th>\n",
       "      <td>1</td>\n",
       "      <td>5</td>\n",
       "      <td>56.4</td>\n",
       "      <td>10.9</td>\n",
       "      <td>1</td>\n",
       "      <td>1</td>\n",
       "    </tr>\n",
       "  </tbody>\n",
       "</table>\n",
       "</div>"
      ],
      "text/plain": [
       "   jenis_kelamin  umur_bulan  tinggi_cm  berat_kg  stunting  wasting\n",
       "0              0          19       91.6      13.3         3        1\n",
       "1              0          20       77.7       8.5         2        3\n",
       "2              0          10       79.0      10.3         0        1\n",
       "3              1           2       50.3       8.3         1        1\n",
       "4              1           5       56.4      10.9         1        1"
      ]
     },
     "execution_count": 51,
     "metadata": {},
     "output_type": "execute_result"
    }
   ],
   "source": [
    "# mapping label -> kode untuk target\n",
    "stunting_cat = df['stunting'].astype('category')\n",
    "stunting_classes = list(stunting_cat.cat.categories) #urutan kelas\n",
    "df['stunting'] = stunting_cat.cat.codes #y numerik\n",
    "\n",
    "# fitur kategoriakal lain (jenis_kelamin, wasting) ->kode juga\n",
    "for col in ['jenis_kelamin','wasting']:\n",
    "    if col in df.columns:\n",
    "        df[col] = df[col].astype('category').cat.codes\n",
    "\n",
    "\n",
    "df.head()"
   ]
  },
  {
   "cell_type": "code",
   "execution_count": 52,
   "id": "89a5cdf6-07e8-4f39-87d0-9b8aa2b373ac",
   "metadata": {},
   "outputs": [
    {
     "data": {
      "image/png": "[encoded data removed]",
      "text/plain": [
       "<Figure size 600x400 with 2 Axes>"
      ]
     },
     "metadata": {},
     "output_type": "display_data"
    }
   ],
   "source": [
    "#korelasi\n",
    "plt.figure(figsize=(6,4))\n",
    "sns.heatmap(df.corr(), annot=True, cmap='coolwarm')\n",
    "plt.title('Korelasi Fitur')\n",
    "plt.show()"
   ]
  },
  {
   "cell_type": "code",
   "execution_count": 7,
   "id": "7abf58b8-190d-4fb8-8d9b-7d7e8fdfd6bd",
   "metadata": {},
   "outputs": [
    {
     "ename": "NameError",
     "evalue": "name 'df' is not defined",
     "output_type": "error",
     "traceback": [
      "\u001b[31m---------------------------------------------------------------------------\u001b[39m",
      "\u001b[31mNameError\u001b[39m                                 Traceback (most recent call last)",
      "\u001b[36mCell\u001b[39m\u001b[36m \u001b[39m\u001b[32mIn[7]\u001b[39m\u001b[32m, line 3\u001b[39m\n\u001b[32m      1\u001b[39m \u001b[38;5;66;03m# Meimlih fitur dataset\u001b[39;00m\n\u001b[32m      2\u001b[39m feature_cols = [\u001b[33m'\u001b[39m\u001b[33mumur_bulan\u001b[39m\u001b[33m'\u001b[39m,\u001b[33m'\u001b[39m\u001b[33mtinggi_cm\u001b[39m\u001b[33m'\u001b[39m,\u001b[33m'\u001b[39m\u001b[33mberat_kg\u001b[39m\u001b[33m'\u001b[39m,\u001b[33m'\u001b[39m\u001b[33mwasting\u001b[39m\u001b[33m'\u001b[39m]\n\u001b[32m----> \u001b[39m\u001b[32m3\u001b[39m X = \u001b[43mdf\u001b[49m[feature_cols]\n\u001b[32m      4\u001b[39m y = df[\u001b[33m'\u001b[39m\u001b[33mstunting\u001b[39m\u001b[33m'\u001b[39m]\n",
      "\u001b[31mNameError\u001b[39m: name 'df' is not defined"
     ]
    }
   ],
   "source": [
    "# Meimlih fitur dataset\n",
    "feature_cols = ['umur_bulan','tinggi_cm','berat_kg','wasting']\n",
    "X = df[feature_cols]\n",
    "y = df['stunting']"
   ]
  },
  {
   "cell_type": "code",
   "execution_count": null,
   "id": "a35034ac-0160-4ba5-9ccc-ed991127cd77",
   "metadata": {},
   "outputs": [],
   "source": []
  }
 ],
 "metadata": {
  "kernelspec": {
   "display_name": "Python 3 (ipykernel)",
   "language": "python",
   "name": "python3"
  },
  "language_info": {
   "codemirror_mode": {
    "name": "ipython",
    "version": 3
   },
   "file_extension": ".py",
   "mimetype": "text/x-python",
   "name": "python",
   "nbconvert_exporter": "python",
   "pygments_lexer": "ipython3",
   "version": "3.13.7"
  }
 },
 "nbformat": 4,
 "nbformat_minor": 5
}
