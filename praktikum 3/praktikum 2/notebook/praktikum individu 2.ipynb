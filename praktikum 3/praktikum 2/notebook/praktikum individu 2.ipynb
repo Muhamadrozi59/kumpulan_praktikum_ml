{
 "cells": [
  {
   "cell_type": "code",
   "execution_count": 13,
   "id": "56b762f5-ff47-45e2-a0c1-27e691f0aed7",
   "metadata": {},
   "outputs": [
    {
     "name": "stdout",
     "output_type": "stream",
     "text": [
      "Jumlah data training : 584\n",
      "\n",
      "5 baris awal data training:\n",
      "   instant      dteday  season  yr  mnth  holiday  weekday  workingday  \\\n",
      "0        1  2011-01-01       1   0     1        0        6           0   \n",
      "1        2  2011-01-02       1   0     1        0        0           0   \n",
      "2        3  2011-01-03       1   0     1        0        1           1   \n",
      "3        4  2011-01-04       1   0     1        0        2           1   \n",
      "4        5  2011-01-05       1   0     1        0        3           1   \n",
      "\n",
      "   weathersit      temp     atemp       hum  windspeed  casual  registered  \\\n",
      "0           2  0.344167  0.363625  0.805833   0.160446     331         654   \n",
      "1           2  0.363478  0.353739  0.696087   0.248539     131         670   \n",
      "2           1  0.196364  0.189405  0.437273   0.248309     120        1229   \n",
      "3           1  0.200000  0.212122  0.590435   0.160296     108        1454   \n",
      "4           1  0.226957  0.229270  0.436957   0.186900      82        1518   \n",
      "\n",
      "    cnt  \n",
      "0   985  \n",
      "1   801  \n",
      "2  1349  \n",
      "3  1562  \n",
      "4  1600  \n"
     ]
    }
   ],
   "source": [
    "import pandas as pd\n",
    "df = pd.read_csv(\"../data/day.csv\")\n",
    "\n",
    "train_size = int(0.8 * len(df))# Hitung ukuran training (80%)\n",
    "\n",
    "train_df = df[:train_size]# Ambil 80% pertama untuk Training\n",
    "\n",
    "print(\"Jumlah data training :\", len(train_df))\n",
    "print(\"\\n5 baris awal data training:\")\n",
    "print(train_df.head())\n"
   ]
  },
  {
   "cell_type": "code",
   "execution_count": 14,
   "id": "82453b61-52d2-4a53-9a37-e8c184cd034b",
   "metadata": {},
   "outputs": [
    {
     "name": "stdout",
     "output_type": "stream",
     "text": [
      "Jumlah data validation : 58\n",
      "\n",
      "5 baris awal data validation:\n",
      "   instant      dteday  season  yr  mnth  holiday  weekday  workingday  \\\n",
      "0        1  2011-01-01       1   0     1        0        6           0   \n",
      "1        2  2011-01-02       1   0     1        0        0           0   \n",
      "2        3  2011-01-03       1   0     1        0        1           1   \n",
      "3        4  2011-01-04       1   0     1        0        2           1   \n",
      "4        5  2011-01-05       1   0     1        0        3           1   \n",
      "\n",
      "   weathersit      temp     atemp       hum  windspeed  casual  registered  \\\n",
      "0           2  0.344167  0.363625  0.805833   0.160446     331         654   \n",
      "1           2  0.363478  0.353739  0.696087   0.248539     131         670   \n",
      "2           1  0.196364  0.189405  0.437273   0.248309     120        1229   \n",
      "3           1  0.200000  0.212122  0.590435   0.160296     108        1454   \n",
      "4           1  0.226957  0.229270  0.436957   0.186900      82        1518   \n",
      "\n",
      "    cnt  \n",
      "0   985  \n",
      "1   801  \n",
      "2  1349  \n",
      "3  1562  \n",
      "4  1600  \n"
     ]
    }
   ],
   "source": [
    "val_size = int(0.1 * len(train_df))\n",
    "val_df   = train_df[:val_size]# Dari Training ambil 10% untuk Validation\n",
    "\n",
    "print(\"Jumlah data validation :\", len(val_df))\n",
    "print(\"\\n5 baris awal data validation:\")\n",
    "print(val_df.head())\n"
   ]
  },
  {
   "cell_type": "code",
   "execution_count": 9,
   "id": "7d294f7c-954e-4a28-a201-9d8317ae3bcb",
   "metadata": {},
   "outputs": [
    {
     "name": "stdout",
     "output_type": "stream",
     "text": [
      "Jumlah data testing : 147\n",
      "\n",
      "5 baris awal data testing:\n",
      "     instant      dteday  season  yr  mnth  holiday  weekday  workingday  \\\n",
      "584      585  2012-08-07       3   1     8        0        2           1   \n",
      "585      586  2012-08-08       3   1     8        0        3           1   \n",
      "586      587  2012-08-09       3   1     8        0        4           1   \n",
      "587      588  2012-08-10       3   1     8        0        5           1   \n",
      "588      589  2012-08-11       3   1     8        0        6           0   \n",
      "\n",
      "     weathersit      temp     atemp       hum  windspeed  casual  registered  \\\n",
      "584           2  0.735833  0.697621  0.703750   0.116908    1278        5995   \n",
      "585           2  0.750000  0.707717  0.672917   0.110700    1263        6271   \n",
      "586           1  0.755833  0.699508  0.620417   0.156100    1196        6090   \n",
      "587           2  0.715833  0.667942  0.715833   0.238813    1065        4721   \n",
      "588           2  0.692500  0.638267  0.732917   0.206479    2247        4052   \n",
      "\n",
      "      cnt  \n",
      "584  7273  \n",
      "585  7534  \n",
      "586  7286  \n",
      "587  5786  \n",
      "588  6299  \n"
     ]
    }
   ],
   "source": [
    "test_df = df[train_size:]# Ambil 20% terakhir untuk Testing\n",
    "\n",
    "print(\"Jumlah data testing :\", len(test_df))\n",
    "print(\"\\n5 baris awal data testing:\")\n",
    "print(test_df.head())\n"
   ]
  },
  {
   "cell_type": "code",
   "execution_count": null,
   "id": "7744c89d-7d1a-488c-be6e-e96a4719fbe5",
   "metadata": {},
   "outputs": [],
   "source": []
  },
  {
   "cell_type": "code",
   "execution_count": null,
   "id": "ff9658c5-905d-48fb-be97-9bf150677555",
   "metadata": {},
   "outputs": [],
   "source": []
  }
 ],
 "metadata": {
  "kernelspec": {
   "display_name": "Python 3 (ipykernel)",
   "language": "python",
   "name": "python3"
  },
  "language_info": {
   "codemirror_mode": {
    "name": "ipython",
    "version": 3
   },
   "file_extension": ".py",
   "mimetype": "text/x-python",
   "name": "python",
   "nbconvert_exporter": "python",
   "pygments_lexer": "ipython3",
   "version": "3.13.7"
  }
 },
 "nbformat": 4,
 "nbformat_minor": 5
}
